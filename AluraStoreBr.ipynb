{
  "cells": [
    {
      "cell_type": "markdown",
      "metadata": {
        "id": "RhEdWd9YUR6H"
      },
      "source": [
        "### Importação dos dados\n",
        "\n"
      ]
    },
    {
      "cell_type": "code",
      "execution_count": 1,
      "metadata": {
        "colab": {
          "base_uri": "https://localhost:8080/",
          "height": 206
        },
        "id": "T3EvaeQ_INIL",
        "outputId": "7194bc65-372c-47e6-cb47-d4bfc9952c91"
      },
      "outputs": [
        {
          "data": {
            "text/html": [
              "<div>\n",
              "<style scoped>\n",
              "    .dataframe tbody tr th:only-of-type {\n",
              "        vertical-align: middle;\n",
              "    }\n",
              "\n",
              "    .dataframe tbody tr th {\n",
              "        vertical-align: top;\n",
              "    }\n",
              "\n",
              "    .dataframe thead th {\n",
              "        text-align: right;\n",
              "    }\n",
              "</style>\n",
              "<table border=\"1\" class=\"dataframe\">\n",
              "  <thead>\n",
              "    <tr style=\"text-align: right;\">\n",
              "      <th></th>\n",
              "      <th>Produto</th>\n",
              "      <th>Categoria do Produto</th>\n",
              "      <th>Preço</th>\n",
              "      <th>Frete</th>\n",
              "      <th>Data da Compra</th>\n",
              "      <th>Vendedor</th>\n",
              "      <th>Local da compra</th>\n",
              "      <th>Avaliação da compra</th>\n",
              "      <th>Tipo de pagamento</th>\n",
              "      <th>Quantidade de parcelas</th>\n",
              "      <th>lat</th>\n",
              "      <th>lon</th>\n",
              "    </tr>\n",
              "  </thead>\n",
              "  <tbody>\n",
              "    <tr>\n",
              "      <th>0</th>\n",
              "      <td>Assistente virtual</td>\n",
              "      <td>eletronicos</td>\n",
              "      <td>219.08</td>\n",
              "      <td>9.249790</td>\n",
              "      <td>16/01/2021</td>\n",
              "      <td>Pedro Gomes</td>\n",
              "      <td>SP</td>\n",
              "      <td>4</td>\n",
              "      <td>cartao_credito</td>\n",
              "      <td>8</td>\n",
              "      <td>-22.19</td>\n",
              "      <td>-48.79</td>\n",
              "    </tr>\n",
              "    <tr>\n",
              "      <th>1</th>\n",
              "      <td>Mesa de jantar</td>\n",
              "      <td>moveis</td>\n",
              "      <td>256.35</td>\n",
              "      <td>11.234305</td>\n",
              "      <td>18/05/2022</td>\n",
              "      <td>Beatriz Moraes</td>\n",
              "      <td>RJ</td>\n",
              "      <td>1</td>\n",
              "      <td>cartao_credito</td>\n",
              "      <td>4</td>\n",
              "      <td>-22.25</td>\n",
              "      <td>-42.66</td>\n",
              "    </tr>\n",
              "    <tr>\n",
              "      <th>2</th>\n",
              "      <td>Jogo de tabuleiro</td>\n",
              "      <td>brinquedos</td>\n",
              "      <td>279.51</td>\n",
              "      <td>21.262681</td>\n",
              "      <td>15/03/2021</td>\n",
              "      <td>João Souza</td>\n",
              "      <td>DF</td>\n",
              "      <td>1</td>\n",
              "      <td>cartao_credito</td>\n",
              "      <td>1</td>\n",
              "      <td>-15.83</td>\n",
              "      <td>-47.86</td>\n",
              "    </tr>\n",
              "    <tr>\n",
              "      <th>3</th>\n",
              "      <td>Micro-ondas</td>\n",
              "      <td>eletrodomesticos</td>\n",
              "      <td>1009.99</td>\n",
              "      <td>54.667344</td>\n",
              "      <td>03/05/2022</td>\n",
              "      <td>João Souza</td>\n",
              "      <td>RS</td>\n",
              "      <td>4</td>\n",
              "      <td>boleto</td>\n",
              "      <td>1</td>\n",
              "      <td>-30.17</td>\n",
              "      <td>-53.50</td>\n",
              "    </tr>\n",
              "    <tr>\n",
              "      <th>4</th>\n",
              "      <td>Cadeira de escritório</td>\n",
              "      <td>moveis</td>\n",
              "      <td>446.99</td>\n",
              "      <td>26.964689</td>\n",
              "      <td>07/11/2020</td>\n",
              "      <td>Larissa Alves</td>\n",
              "      <td>MG</td>\n",
              "      <td>5</td>\n",
              "      <td>boleto</td>\n",
              "      <td>1</td>\n",
              "      <td>-18.10</td>\n",
              "      <td>-44.38</td>\n",
              "    </tr>\n",
              "  </tbody>\n",
              "</table>\n",
              "</div>"
            ],
            "text/plain": [
              "                 Produto Categoria do Produto    Preço      Frete  \\\n",
              "0     Assistente virtual          eletronicos   219.08   9.249790   \n",
              "1         Mesa de jantar               moveis   256.35  11.234305   \n",
              "2      Jogo de tabuleiro           brinquedos   279.51  21.262681   \n",
              "3            Micro-ondas     eletrodomesticos  1009.99  54.667344   \n",
              "4  Cadeira de escritório               moveis   446.99  26.964689   \n",
              "\n",
              "  Data da Compra        Vendedor Local da compra  Avaliação da compra  \\\n",
              "0     16/01/2021     Pedro Gomes              SP                    4   \n",
              "1     18/05/2022  Beatriz Moraes              RJ                    1   \n",
              "2     15/03/2021      João Souza              DF                    1   \n",
              "3     03/05/2022      João Souza              RS                    4   \n",
              "4     07/11/2020   Larissa Alves              MG                    5   \n",
              "\n",
              "  Tipo de pagamento  Quantidade de parcelas    lat    lon  \n",
              "0    cartao_credito                       8 -22.19 -48.79  \n",
              "1    cartao_credito                       4 -22.25 -42.66  \n",
              "2    cartao_credito                       1 -15.83 -47.86  \n",
              "3            boleto                       1 -30.17 -53.50  \n",
              "4            boleto                       1 -18.10 -44.38  "
            ]
          },
          "execution_count": 1,
          "metadata": {},
          "output_type": "execute_result"
        }
      ],
      "source": [
        "import pandas as pd\n",
        "\n",
        "url = \"https://raw.githubusercontent.com/alura-es-cursos/challenge1-data-science/refs/heads/main/base-de-dados-challenge-1/loja_1.csv\"\n",
        "url2 = \"https://raw.githubusercontent.com/alura-es-cursos/challenge1-data-science/refs/heads/main/base-de-dados-challenge-1/loja_2.csv\"\n",
        "url3 = \"https://raw.githubusercontent.com/alura-es-cursos/challenge1-data-science/refs/heads/main/base-de-dados-challenge-1/loja_3.csv\"\n",
        "url4 = \"https://raw.githubusercontent.com/alura-es-cursos/challenge1-data-science/refs/heads/main/base-de-dados-challenge-1/loja_4.csv\"\n",
        "\n",
        "loja = pd.read_csv(url)\n",
        "loja2 = pd.read_csv(url2)\n",
        "loja3 = pd.read_csv(url3)\n",
        "loja4 = pd.read_csv(url4)\n",
        "\n",
        "loja.head()"
      ]
    },
    {
      "cell_type": "markdown",
      "metadata": {
        "id": "X62IW3KFUIYm"
      },
      "source": [
        "# 1. Análise do faturamento\n"
      ]
    },
    {
      "cell_type": "code",
      "execution_count": null,
      "metadata": {
        "id": "xykobSftV64I"
      },
      "outputs": [
        {
          "name": "stdout",
          "output_type": "stream",
          "text": [
            "Faturamento da Loja 1: R$ 1534509.12\n",
            "Faturamento da Loja 2: R$ 1488459.06\n",
            "Faturamento da Loja 3: R$ 1464025.03\n",
            "Faturamento da Loja 4: R$ 1384497.58\n"
          ]
        }
      ],
      "source": [
        "# Calculando o faturamento total de cada loja\n",
        "faturamento_loja1 = loja['Preço'].sum()\n",
        "faturamento_loja2 = loja2['Preço'].sum()\n",
        "faturamento_loja3 = loja3['Preço'].sum()\n",
        "faturamento_loja4 = loja4['Preço'].sum()\n",
        "\n",
        "# Exibindo os resultados\n",
        "print(f\"Faturamento da Loja 1: R$ {faturamento_loja1:.2f}\")\n",
        "print(f\"Faturamento da Loja 2: R$ {faturamento_loja2:.2f}\")\n",
        "print(f\"Faturamento da Loja 3: R$ {faturamento_loja3:.2f}\")\n",
        "print(f\"Faturamento da Loja 4: R$ {faturamento_loja4:.2f}\")"
      ]
    },
    {
      "cell_type": "code",
      "execution_count": 11,
      "metadata": {
        "id": "KDyr8E71V3m-"
      },
      "outputs": [
        {
          "data": {
            "image/png": "[encoded data removed]",
            "text/plain": [
              "<Figure size 1000x600 with 1 Axes>"
            ]
          },
          "metadata": {},
          "output_type": "display_data"
        }
      ],
      "source": [
        "import matplotlib.pyplot as plt\n",
        "\n",
        "# Faturamento por loja\n",
        "faturamento = [loja['Preço'].sum(), loja2['Preço'].sum(), loja3['Preço'].sum(), loja4['Preço'].sum()]\n",
        "lojas = ['Loja 1', 'Loja 2', 'Loja 3', 'Loja 4']\n",
        "\n",
        "plt.figure(figsize=(10, 6))\n",
        "plt.bar(lojas, faturamento, color='skyblue')\n",
        "plt.title('Faturamento Total por Loja')\n",
        "plt.xlabel('Loja')\n",
        "plt.ylabel('Faturamento (R$)')\n",
        "plt.show()"
      ]
    },
    {
      "cell_type": "markdown",
      "metadata": {
        "id": "2V_vcAPzWZmR"
      },
      "source": [
        "# 2. Vendas por Categoria"
      ]
    },
    {
      "cell_type": "code",
      "execution_count": null,
      "metadata": {
        "id": "A34YupIuYhfF"
      },
      "outputs": [
        {
          "name": "stdout",
          "output_type": "stream",
          "text": [
            "Vendas por categoria na Loja 1:\n",
            "Categoria do Produto\n",
            "brinquedos                23993.78\n",
            "eletrodomesticos         484913.36\n",
            "eletronicos              572659.23\n",
            "esporte e lazer           52387.55\n",
            "instrumentos musicais    121731.69\n",
            "livros                    11713.92\n",
            "moveis                   250178.11\n",
            "utilidades domesticas     16931.48\n",
            "Name: Preço, dtype: float64\n",
            "\n",
            "Vendas por categoria na Loja 2:\n",
            "Categoria do Produto\n",
            "brinquedos                21262.21\n",
            "eletrodomesticos         464758.13\n",
            "eletronicos              547773.71\n",
            "esporte e lazer           46326.09\n",
            "instrumentos musicais    139987.03\n",
            "livros                    13454.35\n",
            "moveis                   235234.68\n",
            "utilidades domesticas     19662.86\n",
            "Name: Preço, dtype: float64\n",
            "\n",
            "Vendas por categoria na Loja 3:\n",
            "Categoria do Produto\n",
            "brinquedos                25869.20\n",
            "eletrodomesticos         438984.89\n",
            "eletronicos              547699.92\n",
            "esporte e lazer           47456.10\n",
            "instrumentos musicais    103174.45\n",
            "livros                    12664.70\n",
            "moveis                   268095.56\n",
            "utilidades domesticas     20080.21\n",
            "Name: Preço, dtype: float64\n",
            "\n",
            "Vendas por categoria na Loja 4:\n",
            "Categoria do Produto\n",
            "brinquedos                27015.67\n",
            "eletrodomesticos         377680.65\n",
            "eletronicos              545966.86\n",
            "esporte e lazer           44465.65\n",
            "instrumentos musicais    100136.50\n",
            "livros                    12427.77\n",
            "moveis                   256705.65\n",
            "utilidades domesticas     20098.83\n",
            "Name: Preço, dtype: float64\n"
          ]
        }
      ],
      "source": [
        "# Calculando as vendas por categoria para cada loja\n",
        "vendas_categoria_loja1 = loja.groupby('Categoria do Produto')['Preço'].sum()\n",
        "vendas_categoria_loja2 = loja2.groupby('Categoria do Produto')['Preço'].sum()\n",
        "vendas_categoria_loja3 = loja3.groupby('Categoria do Produto')['Preço'].sum()\n",
        "vendas_categoria_loja4 = loja4.groupby('Categoria do Produto')['Preço'].sum()\n",
        "\n",
        "# Exibindo os resultados\n",
        "print(\"Vendas por categoria na Loja 1:\")\n",
        "print(vendas_categoria_loja1)\n",
        "print(\"\\nVendas por categoria na Loja 2:\")\n",
        "print(vendas_categoria_loja2)\n",
        "print(\"\\nVendas por categoria na Loja 3:\")\n",
        "print(vendas_categoria_loja3)\n",
        "print(\"\\nVendas por categoria na Loja 4:\")\n",
        "print(vendas_categoria_loja4)"
      ]
    },
    {
      "cell_type": "code",
      "execution_count": null,
      "metadata": {
        "id": "yZR6cOjXYSk1"
      },
      "outputs": [],
      "source": []
    },
    {
      "cell_type": "markdown",
      "metadata": {
        "id": "Rq6tU_xSY3jk"
      },
      "source": [
        "# 3. Média de Avaliação das Lojas"
      ]
    },
    {
      "cell_type": "code",
      "execution_count": null,
      "metadata": {
        "id": "bh3jjjJwY5MU"
      },
      "outputs": [
        {
          "name": "stdout",
          "output_type": "stream",
          "text": [
            "Média de Avaliação da Loja 1: 3.98\n",
            "Média de Avaliação da Loja 2: 4.04\n",
            "Média de Avaliação da Loja 3: 4.05\n",
            "Média de Avaliação da Loja 4: 4.00\n"
          ]
        }
      ],
      "source": [
        "# Calculando a média de avaliação da compra para cada loja\n",
        "media_avaliacao_loja1 = loja['Avaliação da compra'].mean()\n",
        "media_avaliacao_loja2 = loja2['Avaliação da compra'].mean()\n",
        "media_avaliacao_loja3 = loja3['Avaliação da compra'].mean()\n",
        "media_avaliacao_loja4 = loja4['Avaliação da compra'].mean()\n",
        "\n",
        "# Exibindo os resultados\n",
        "print(f\"Média de Avaliação da Loja 1: {media_avaliacao_loja1:.2f}\")\n",
        "print(f\"Média de Avaliação da Loja 2: {media_avaliacao_loja2:.2f}\")\n",
        "print(f\"Média de Avaliação da Loja 3: {media_avaliacao_loja3:.2f}\")\n",
        "print(f\"Média de Avaliação da Loja 4: {media_avaliacao_loja4:.2f}\")"
      ]
    },
    {
      "cell_type": "code",
      "execution_count": 14,
      "metadata": {
        "id": "I0KkjPoTY88F"
      },
      "outputs": [
        {
          "data": {
            "image/png": "[encoded data removed]",
            "text/plain": [
              "<Figure size 800x800 with 1 Axes>"
            ]
          },
          "metadata": {},
          "output_type": "display_data"
        }
      ],
      "source": [
        "# Avaliação média por loja\n",
        "avaliacao_media = [\n",
        "    loja['Avaliação da compra'].mean(), \n",
        "    loja2['Avaliação da compra'].mean(), \n",
        "    loja3['Avaliação da compra'].mean(), \n",
        "    loja4['Avaliação da compra'].mean()\n",
        "]\n",
        "\n",
        "plt.figure(figsize=(8, 8))\n",
        "plt.pie(avaliacao_media, labels=lojas, autopct='%1.1f%%', startangle=90, colors=plt.cm.Paired.colors)\n",
        "plt.title('Participação da Avaliação Média por Loja')\n",
        "plt.show()"
      ]
    },
    {
      "cell_type": "markdown",
      "metadata": {
        "id": "DmNp1KPBZCm-"
      },
      "source": [
        "# 4. Produtos Mais e Menos Vendidos"
      ]
    },
    {
      "cell_type": "code",
      "execution_count": 8,
      "metadata": {
        "id": "qoyjqijQZHfF"
      },
      "outputs": [
        {
          "name": "stdout",
          "output_type": "stream",
          "text": [
            "Produto mais vendido na Loja 1: Micro-ondas\n",
            "Produto menos vendido na Loja 1: Headset\n",
            "Produto mais vendido na Loja 2: Iniciando em programação\n",
            "Produto menos vendido na Loja 2: Jogo de tabuleiro\n",
            "Produto mais vendido na Loja 3: Kit banquetas\n",
            "Produto menos vendido na Loja 3: Blocos de montar\n",
            "Produto mais vendido na Loja 4: Cama box\n",
            "Produto menos vendido na Loja 4: Guitarra\n"
          ]
        }
      ],
      "source": [
        "# Produtos mais e menos vendidos na Loja 1\n",
        "produto_mais_vendido_loja1 = loja['Produto'].value_counts().idxmax()\n",
        "produto_menos_vendido_loja1 = loja['Produto'].value_counts().idxmin()\n",
        "\n",
        "# Produtos mais e menos vendidos na Loja 2\n",
        "produto_mais_vendido_loja2 = loja2['Produto'].value_counts().idxmax()\n",
        "produto_menos_vendido_loja2 = loja2['Produto'].value_counts().idxmin()\n",
        "\n",
        "# Produtos mais e menos vendidos na Loja 3\n",
        "produto_mais_vendido_loja3 = loja3['Produto'].value_counts().idxmax()\n",
        "produto_menos_vendido_loja3 = loja3['Produto'].value_counts().idxmin()\n",
        "\n",
        "# Produtos mais e menos vendidos na Loja 4\n",
        "produto_mais_vendido_loja4 = loja4['Produto'].value_counts().idxmax()\n",
        "produto_menos_vendido_loja4 = loja4['Produto'].value_counts().idxmin()\n",
        "\n",
        "# Exibir os resultados\n",
        "print(f\"Produto mais vendido na Loja 1: {produto_mais_vendido_loja1}\")\n",
        "print(f\"Produto menos vendido na Loja 1: {produto_menos_vendido_loja1}\")\n",
        "\n",
        "print(f\"Produto mais vendido na Loja 2: {produto_mais_vendido_loja2}\")\n",
        "print(f\"Produto menos vendido na Loja 2: {produto_menos_vendido_loja2}\")\n",
        "\n",
        "print(f\"Produto mais vendido na Loja 3: {produto_mais_vendido_loja3}\")\n",
        "print(f\"Produto menos vendido na Loja 3: {produto_menos_vendido_loja3}\")\n",
        "\n",
        "print(f\"Produto mais vendido na Loja 4: {produto_mais_vendido_loja4}\")\n",
        "print(f\"Produto menos vendido na Loja 4: {produto_menos_vendido_loja4}\")"
      ]
    },
    {
      "cell_type": "code",
      "execution_count": null,
      "metadata": {
        "id": "0Sw3sd4IZIGW"
      },
      "outputs": [],
      "source": []
    },
    {
      "cell_type": "markdown",
      "metadata": {
        "id": "Fl0cGi3bZKqU"
      },
      "source": [
        "# 5. Frete Médio por Loja\n"
      ]
    },
    {
      "cell_type": "code",
      "execution_count": null,
      "metadata": {
        "id": "S2JeaCykZNy9"
      },
      "outputs": [
        {
          "name": "stdout",
          "output_type": "stream",
          "text": [
            "Frete médio da Loja 1: R$ 34.69\n",
            "Frete médio da Loja 2: R$ 33.62\n",
            "Frete médio da Loja 3: R$ 33.07\n",
            "Frete médio da Loja 4: R$ 31.28\n"
          ]
        }
      ],
      "source": [
        "# Calculando o frete médio para cada loja\n",
        "frete_medio_loja1 = loja['Frete'].mean()\n",
        "frete_medio_loja2 = loja2['Frete'].mean()\n",
        "frete_medio_loja3 = loja3['Frete'].mean()\n",
        "frete_medio_loja4 = loja4['Frete'].mean()\n",
        "\n",
        "# Exibir os resultados\n",
        "print(f\"Frete médio da Loja 1: R$ {frete_medio_loja1:.2f}\")\n",
        "print(f\"Frete médio da Loja 2: R$ {frete_medio_loja2:.2f}\")\n",
        "print(f\"Frete médio da Loja 3: R$ {frete_medio_loja3:.2f}\")\n",
        "print(f\"Frete médio da Loja 4: R$ {frete_medio_loja4:.2f}\")"
      ]
    },
    {
      "cell_type": "code",
      "execution_count": 15,
      "metadata": {
        "id": "0tSdCie9ZQlt"
      },
      "outputs": [
        {
          "data": {
            "image/png": "[encoded data removed]",
            "text/plain": [
              "<Figure size 1000x600 with 1 Axes>"
            ]
          },
          "metadata": {},
          "output_type": "display_data"
        }
      ],
      "source": [
        "# Frete médio vs. avaliação média\n",
        "frete_medio = [\n",
        "    loja['Frete'].mean(), \n",
        "    loja2['Frete'].mean(), \n",
        "    loja3['Frete'].mean(), \n",
        "    loja4['Frete'].mean()\n",
        "]\n",
        "\n",
        "plt.figure(figsize=(10, 6))\n",
        "plt.scatter(frete_medio, avaliacao_media, c='green')\n",
        "plt.title('Frete Médio vs. Avaliação Média por Loja')\n",
        "plt.xlabel('Frete Médio (R$)')\n",
        "plt.ylabel('Avaliação Média')\n",
        "for i, txt in enumerate(lojas):\n",
        "    plt.annotate(txt, (frete_medio[i], avaliacao_media[i]))\n",
        "plt.show()"
      ]
    },
    {
      "cell_type": "markdown",
      "metadata": {},
      "source": [
        "## Recomendações com Base nas Análises\n",
        "\n",
        "### Faturamento\n",
        "- **Loja 4:** R$ 1.384.497,58 (Menor faturamento)\n",
        "\n",
        "### Avaliações\n",
        "- **Loja 1:** Média de 3.98 (Menor satisfação do cliente)\n",
        "\n",
        "### Custo de Frete\n",
        "- **Loja 4:** R$ 31,28 (Custo mais baixo)\n",
        "\n",
        "### Análise de Categorias\n",
        "- **Loja 4:** Desempenho inferior em eletrodomésticos e eletrônicos.\n",
        "\n",
        "---\n",
        "\n",
        "### Conclusão e Recomendação\n",
        "\n",
        "**Vender:** **Loja 4**\n",
        "\n",
        "**Motivos:**\n",
        "- Menor faturamento total.\n",
        "- Desempenho fraco em categorias-chave de produtos.\n",
        "- Apesar do frete baixo, não compensa o baixo volume de vendas.\n",
        "\n",
        "**Sugestão:** Concentrar esforços em melhorar a **Loja 1** devido aos desafios na satisfação do cliente, e reinvestir os recursos da venda da Loja 4 em lojas mais lucrativas."
      ]
    },
    {
      "cell_type": "markdown",
      "metadata": {},
      "source": []
    }
  ],
  "metadata": {
    "colab": {
      "provenance": []
    },
    "kernelspec": {
      "display_name": ".venv",
      "language": "python",
      "name": "python3"
    },
    "language_info": {
      "codemirror_mode": {
        "name": "ipython",
        "version": 3
      },
      "file_extension": ".py",
      "mimetype": "text/x-python",
      "name": "python",
      "nbconvert_exporter": "python",
      "pygments_lexer": "ipython3",
      "version": "3.13.3"
    }
  },
  "nbformat": 4,
  "nbformat_minor": 0
}
